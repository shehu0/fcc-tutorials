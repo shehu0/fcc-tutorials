{
 "cells": [
  {
   "cell_type": "markdown",
   "metadata": {},
   "source": [
    "# FCC Calorimeter Performance Studies Workflow\n",
    "\n",
    "\n",
    "{% discussion \"Run this page as a Notebook on SWAN\" %}\n",
    "\n",
    "This page can be run as a notebook on the SWAN service at CERN (or any ipython notebook server that can run fcc software). Use the following link\n",
    "\n",
    "\n",
    "[![Click to run this page on SWAN](https://swanserver.web.cern.ch/swanserver/images/badge_swan_white_150.png)](https://swan.cern.ch/hub/user-redirect/download?projurl=https://raw.githubusercontent.com/HEP-FCC/fcc-tutorials/gh-pages/full-detector-simulations/FccCaloPerformance/FccCaloPerformance.ipynb)\n",
    "\n",
    "When configuring the environment, you **must** select the  97a Python2 software stack, and paste the following in the \"Environment Script\" Box"
   ]
  },
  {
   "cell_type": "code",
   "execution_count": null,
   "metadata": {},
   "outputs": [],
   "source": [
    "/eos/experiment/fcc/ee/tutorial/setup_swan.sh"
   ]
  },
  {
   "cell_type": "markdown",
   "metadata": {},
   "source": [
    "When first starting a new notebook in this environment, SWAN may fail to select a kernel and you will see a red box saying `None not found` in the top right corner.\n",
    "To fix this, click:  `KERNEL > Change kernel > Python2` in the top menu.\n",
    "\n",
    "See <https://github.com/swan-cern/help> for more details on SWAN.\n",
    "\n",
    "\n",
    "{% enddiscussion %}\n",
    "\n",
    "{% objectives \"Learning Objectives\" %}\n",
    "\n",
    "This tutorial will teach you how to:\n",
    "\n",
    "* **simulate** the single particle response of the calorimeter detector system\n",
    "* **reconstruct** physics object from raw signals\n",
    "* produce **plots** of energy resolutions and other quantities.\n",
    "\n",
    "{% endobjectives %}\n",
    "\n",
    "\n",
    "\n",
    "\n",
    "First, make sure your setup of the FCC software is working. \n",
    "You can check that the command to run jobs in the Gaudi framework is available on the command line:"
   ]
  },
  {
   "cell_type": "code",
   "execution_count": null,
   "metadata": {},
   "outputs": [],
   "source": [
    "%%bash\n",
    "which fccrun"
   ]
  },
  {
   "cell_type": "markdown",
   "metadata": {},
   "source": [
    "If you don't see a valid path like `/usr/local/bin/fccrun`  you should consult [the documentation page on FCCSW setup](https://github.com/vvolkl/fcc-tutorials/blob/master/FccSoftwareGettingStarted.md)\n",
    "\n",
    "## Using the DD4hep detector model in FCC Software.\n",
    "\n",
    "The Geant4 geometry is used for the full simulation of the detector is not written directly, but generated using the DD4hep library.\n",
    "The detector description in this library consists of two parts:\n",
    "A compiled C++ library that constructs the geometry, and a set of xml files that contain parameters that can are parsed by the library at runtime and make the detector geometry (somewhat) configurable.\n",
    "In the framework, the geometry is available to all components via the service `GeoSvc`.\n",
    "One of the simplest jobs is to write the geometry to a `.gdml` file:"
   ]
  },
  {
   "cell_type": "code",
   "execution_count": null,
   "metadata": {},
   "outputs": [],
   "source": [
    "\n",
    "# write to dumpGeo_fccee.py\n",
    "import os\n",
    "from Gaudi.Configuration import *\n",
    "from Configurables import GeoSvc\n",
    "geoservice = GeoSvc(\"GeoSvc\")\n",
    "geoservice.detectors=[\n",
    "  \"/cvmfs/fcc.cern.ch/sw/releases/fccsw/0.12/x86_64-centos7-gcc8-opt/share/FCCSW/Detector/DetFCCeeIDEA/compact/FCCee_DectMaster.xml\",\n",
    "                    ]\n",
    "\n",
    "from Configurables import SimG4Svc\n",
    "geantservice = SimG4Svc(\"SimG4Svc\")\n",
    "\n",
    "from Configurables import GeoToGdmlDumpSvc\n",
    "geodumpservice = GeoToGdmlDumpSvc(\"GeoDump\") \n",
    "geodumpservice.gdml=\"FCCee_IDEA.gdml\"\n",
    "\n",
    "from Configurables import ApplicationMgr\n",
    "ApplicationMgr( TopAlg = [], \n",
    "                EvtSel = 'NONE',\n",
    "                EvtMax   = 1,\n",
    "                # order is important, as GeoSvc is needed by SimG4Svc\n",
    "                ExtSvc = [geoservice, geantservice, geodumpservice],\n",
    "                OutputLevel=INFO\n",
    " )\n"
   ]
  },
  {
   "cell_type": "markdown",
   "metadata": {},
   "source": [
    "A job with this configuration can be executed with"
   ]
  },
  {
   "cell_type": "code",
   "execution_count": null,
   "metadata": {},
   "outputs": [],
   "source": [
    "%%bash\n",
    "fccrun dumpGeo_fccee.py"
   ]
  },
  {
   "cell_type": "markdown",
   "metadata": {},
   "source": [
    "Note the printout of the GeoSvc and make sure the information is as expected. If there is something unclear or missing make sure to open an [issue](https://github.com/HEP-FCC/FCCSW/issues)!\n",
    "Take a look at the resulting gdml file. Although it is text-based it is not really human-readable for a geometry of this size, but you can check the number of lines and volume names if you are familiar with the geometry."
   ]
  },
  {
   "cell_type": "code",
   "execution_count": null,
   "metadata": {},
   "outputs": [],
   "source": [
    "%%bash\n",
    "tail FCCee_IDEA.gdml"
   ]
  },
  {
   "cell_type": "code",
   "execution_count": null,
   "metadata": {},
   "outputs": [],
   "source": [
    "%%bash\n",
    "# count occurences of \"physvol\"\n",
    "grep -c \"<physvol\" FCCee_IDEA.gdml"
   ]
  },
  {
   "cell_type": "markdown",
   "metadata": {},
   "source": [
    "The geometry can also be visualised:"
   ]
  },
  {
   "cell_type": "code",
   "execution_count": null,
   "metadata": {},
   "outputs": [],
   "source": [
    "# load the dd4hep detector model\n",
    "import ROOT\n",
    "import dd4hep\n",
    "import os\n",
    "fcc_det_path = \"/cvmfs/sft.cern.ch/lcg/releases/fccsw/0.13-5b877/x86_64-centos7-gcc8-opt//share/FCCSW/Detector/DetFCCeeIDEA-LAr/compact/FCCee_DectMaster.xml\"\n",
    "print fcc_det_path\n",
    "description = dd4hep.Detector.getInstance()\n",
    "description.fromXML(fcc_det_path)\n",
    "import ROOT\n",
    "c = ROOT.TCanvas(\"c_detector_display\", \"\", 600,600)\n",
    "description.manager().SetVisLevel(6)\n",
    "description.manager().SetVisOption(1)\n",
    "vol = description.manager().GetTopVolume()\n",
    "vol.Draw()\n"
   ]
  },
  {
   "cell_type": "markdown",
   "metadata": {},
   "source": [
    "## Running Geant4 within the FCC Software Framework\n",
    "\n",
    "To run Geant4, a number of additional components are required, foremost the `SimG4Alg` and `SimG4Svc`.\n",
    "The simplest way to generate a particle to simulate is to use one of the particle guns (`GenAlg` with the `MomentumRangeParticleGun` tool for example).\n",
    "This algorithm produces a particles with energies from a flat probability distribution in HepMC format.\n",
    "To use them as input they first need to be converted to the FCC event data model (`HepMCToEDMConverter`) and piped into the Geant4 interface via the `SimG4PrimariesFromEdmTool`.\n",
    "\n",
    "A configuration that runs all of this is distributed with FCCSW and can be run with the following command:\n",
    "\n",
    "(This simulates the response of 5GeV electrons which makes for modest shower sizes and should produce 500 events in around 2 minutes)"
   ]
  },
  {
   "cell_type": "code",
   "execution_count": null,
   "metadata": {},
   "outputs": [],
   "source": [
    "%%bash\n",
    " fccrun  $FCCSWBASEDIR/share/FCCSW/RecFCCeeCalorimeter/options/runCaloSim.py  \\\n",
    "          --filename fccee_idea_LAr_pgun.root \\\n",
    "          -n 500 "
   ]
  },
  {
   "cell_type": "markdown",
   "metadata": {},
   "source": [
    "The output of this job is `fccee_idea_LAr_pgun.root`, a ROOT file containing the simulation products of 500 single particle events (5 Gev e-) in the FCC event data model.\n",
    "Check for example that the distribution of the input particles is as you expect:"
   ]
  },
  {
   "cell_type": "code",
   "execution_count": null,
   "metadata": {},
   "outputs": [],
   "source": [
    "import ROOT\n",
    "f = ROOT.TFile(\"fccee_idea_LAr_pgun.root\")\n",
    "events = f.Get(\"events\")\n",
    "c = ROOT.TCanvas(\"canvas1\", \"\",600, 400)\n",
    "h = ROOT.TH1F(\"h_GenParticles_P\", \";Primary particle Momentum P; Events\", 100, 0 ,100)\n",
    "events.Draw(\"sqrt(pow(GenParticles.core.p4.px,2) + pow(GenParticles.core.p4.py,2) +pow(GenParticles.core.p4.pz,2))>>h_GenParticles_P\")\n",
    "c.Draw()\n"
   ]
  },
  {
   "cell_type": "markdown",
   "metadata": {},
   "source": [
    "The exact position of the energy deposit is available too (Note that this collection, which is MCTruth-level information is not usually saved on disk to save space):"
   ]
  },
  {
   "cell_type": "code",
   "execution_count": null,
   "metadata": {},
   "outputs": [],
   "source": [
    "import ROOT\n",
    "f = ROOT.TFile(\"fccee_idea_LAr_pgun.root\")\n",
    "events = f.Get(\"events\")\n",
    "\n",
    "c = ROOT.TCanvas(\"c_ECalBarrelPositions_xy\", \"\", 700, 600)\n",
    "# draw hits for first five events\n",
    "events.Draw(\"ECalBarrelPositions.position.y:ECalBarrelPositions.position.x\", \"\", \"\", 5, 0)\n",
    "c.Draw()"
   ]
  },
  {
   "cell_type": "markdown",
   "metadata": {},
   "source": [
    "### Obtaining and Plotting the Energy Resolution\n",
    "\n",
    "Now that the detector response is simulated, it is time to reconstruct the signals. FCCSW includes another configuration to run a Sliding Window reconstruction:"
   ]
  },
  {
   "cell_type": "code",
   "execution_count": null,
   "metadata": {},
   "outputs": [],
   "source": [
    "%%bash\n",
    "fccrun $FCCSWBASEDIR/share/FCCSW/RecFCCeeCalorimeter/options/runFullCaloSystem_ReconstructionSW_noiseFromFile.py \\\n",
    "       -n 100 \\\n",
    "       --input fccee_idea_LAr_pgun.root \\\n",
    "       --noiseFileName http://fccsw.web.cern.ch/fccsw/testsamples/elecNoise_ecalBarrelFCCee_50Ohm_traces1_4shieldWidth.root \\\n",
    "       --filename output_allCalo_reco_noise.root"
   ]
  },
  {
   "cell_type": "markdown",
   "metadata": {},
   "source": [
    "This configuration inludes electronics noise especially calculated for this detector geometry. which is overlayed on the branch `ECalBarrelCells` containing information on all cells in the ECal Barrel.\n",
    "First, let's visualize the impact of the noise:"
   ]
  },
  {
   "cell_type": "code",
   "execution_count": null,
   "metadata": {},
   "outputs": [],
   "source": [
    "import ROOT\n",
    "f = ROOT.TFile(\"output_allCalo_reco_noise.root\")\n",
    "events = f.Get(\"events\")\n",
    "\n",
    "c = ROOT.TCanvas(\"c_ECalBarrelCellsNoise_energy\", \"\", 700, 600)\n",
    "\n",
    "h = ROOT.TH1F(\"h_ECalBarrelCells_energy\", \";ECal Barrel Cells Energy [GeV]; Cells\", 80, -0.2 ,1)\n",
    "events.Draw(\"ECalBarrelCells.core.energy >> h_ECalBarrelCells_energy\", \"\", \"\", 10, 0)\n",
    "h.GetYaxis().SetRangeUser(0.2, 8*10**6)\n",
    "\n",
    "\n",
    "\n",
    "c.SetLogy()\n",
    "c.Draw()\n",
    "\n",
    "c2 = ROOT.TCanvas(\"c_ECalBarrelCells_energy\", \"\", 700, 600)\n",
    "#h2 = ROOT.TH1F(\"h_ECalBarrelCellsNoise_energy\", \";ECall Barrel Cells Energy with Noise [GeV]; Events\", 80, -0.2 ,1)\n",
    "h2 = h.Clone(\"h_ECalBarrelCellsNoise_energy\")\n",
    "h2.SetTitle(\";ECal Barrel Cells Energy with Noise [GeV]; Cells\")\n",
    "events.Draw(\"ECalBarrelCellsNoise.core.energy>> h_ECalBarrelCellsNoise_energy\", \"\", \"\", 10, 0)\n",
    "h2.GetYaxis().SetRangeUser(0.2, 8*10**6)\n",
    "h2.SetLineColor(ROOT.kBlack)\n",
    "\n",
    "\n",
    "c2.SetLogy()\n",
    "c2.Draw()"
   ]
  },
  {
   "cell_type": "markdown",
   "metadata": {},
   "source": [
    "From these plots the impact of the noise becomes clear. Note that the branch `EcalBarrelCellsNoise` is much larger than `ECalBarrelCells`, as all cells that did not record a signal can no longer be ignored, but have to be saved as well due to the presence of noise.\n",
    "\n",
    "\n",
    "### Extracting and Plotting the Resolution\n",
    "\n",
    "The root file created by FCCSW also contains the output of the Sliding Window reconstruction in the branch \"CaloClusters\". Again, we first check the contents:"
   ]
  },
  {
   "cell_type": "code",
   "execution_count": null,
   "metadata": {},
   "outputs": [],
   "source": [
    "import ROOT\n",
    "f = ROOT.TFile(\"output_allCalo_reco_noise.root\")\n",
    "events = f.Get(\"events\")\n",
    "\n",
    "c = ROOT.TCanvas(\"c_CaloClusters_energy\", \"\", 700, 600)\n",
    "hEn = ROOT.TH1F(\"h_CaloClusters_energy\", \";ECal Calo Cluster Energy [GeV]; # Clusters\", 120, 0 ,8)\n",
    "events.Draw(\"CaloClusters.core.energy >> h_CaloClusters_energy\")\n",
    "\n",
    "c.Draw()\n"
   ]
  },
  {
   "cell_type": "markdown",
   "metadata": {},
   "source": [
    "To extract the Calorimeter Performance, we have to fit the reco energy distribution:"
   ]
  },
  {
   "cell_type": "code",
   "execution_count": null,
   "metadata": {},
   "outputs": [],
   "source": [
    "\n",
    "import ROOT\n",
    "f = ROOT.TFile(\"output_allCalo_reco_noise.root\")\n",
    "events = f.Get(\"events\")\n",
    "\n",
    "c = ROOT.TCanvas(\"c_CaloClusters_energyFit\", \"\", 700, 600)\n",
    "hEn = ROOT.TH1F(\"h_CaloClusters_energy\", \";ECal Calo Cluster Energy [GeV]; # Clusters\", 120, 0 ,8)\n",
    "events.Draw(\"CaloClusters.core.energy >> h_CaloClusters_energy\")\n",
    "\n",
    "fitPre = ROOT.TF1(\"fitPre\",\"gaus\", hEn.GetMean() - 1. * hEn.GetRMS(), hEn.GetMean() + 1. * hEn.GetRMS())\n",
    "resultPre = hEn.Fit(fitPre, \"SQRN\")\n",
    "fit = ROOT.TF1(\"fit\",\"gaus\", resultPre.Get().Parameter(1) - 2. * resultPre.Get().Parameter(2), resultPre.Get().Parameter(1) + 2. * resultPre.Get().Parameter(2))\n",
    "result = hEn.Fit(fit, \"SQRN\")\n",
    "mean = result.Get().Parameter(1)\n",
    "sigma = result.Get().Parameter(2)\n",
    "dMean = result.Get().Error(1)\n",
    "dSigma = result.Get().Error(2)\n",
    "print \"mean:\", round(mean,2), \"[GeV]\"\n",
    "print \"sigma:\", round(sigma  ,2), \"[GeV]\"\n",
    "fit.Draw(\"SAME\")\n",
    "c.Draw()\n"
   ]
  },
  {
   "cell_type": "markdown",
   "metadata": {},
   "source": [
    "### Further Topics: Parametrizing the Energy Resolution \n",
    "\n",
    "We are of course interested in the Calorimeter response not only at one energy, but over a range of energies,\n",
    "and in particular in the usual parametrisation of the resolution:\n",
    "\n",
    "\n",
    "\n",
    "`$  {\\sigma_E \\over E} =  { a \\over \\sqrt{E}} \\oplus  {b \\over E} \\oplus c  $`,\n",
    "\n",
    "where a is the \"stochastic term\", b the \"noise term\" and c the \"constant term\" \n",
    "\n",
    "This requires a somewhat more complex script. The FCC Calo Group maintains one here: https://github.com/faltovaj/FCC_calo_analysis_cpp/blob/master/scripts/plot_enResolution.py\n",
    "\n",
    "TODO: Install a modified version of this script that can run on pre-produced samples on eos?\n",
    "\n",
    "\n",
    "\n",
    "\n",
    "\n",
    "### Further Topics: Calculating the Sampling Fraction and using it in Simulation\n",
    "\n",
    "As you can see in https://github.com/HEP-FCC/FCCSW/blob/master/Reconstruction/RecFCCeeCalorimeter/options/runCaloSim.py#L112, the simulation already corrected for the sampling fraction of our calorimeter.\n",
    "These values themselves are taken from simulation and in case you change the geometry they need to be recalculated and updated.\n",
    "\n",
    "TODO: This will be part of another tutorial. Add link."
   ]
  }
 ],
 "metadata": {},
 "nbformat": 4,
 "nbformat_minor": 4
}
