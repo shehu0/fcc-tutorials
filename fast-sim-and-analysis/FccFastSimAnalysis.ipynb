{
 "cells": [
  {
   "cell_type": "markdown",
   "metadata": {},
   "source": [
    "# FCC: Getting started with analysing simulated events\n",
    "\n",
    "\n",
    "{% objectives \"Learning Objectives\" %}\n",
    "\n",
    "This tutorial will teach you how to:\n",
    "\n",
    "-   apply an **event selection** on Delphes samples with **FCCAnalyses**\n",
    "-   produce **flat ntuples** with observables of interest with **FCCAnalyses**\n",
    "-   produce plots with **FCCAnalyses**\n",
    "-   compare distributions produced with different generators\n",
    "\n",
    "{% endobjectives %}\n",
    "\n",
    "\n",
    "\n",
    "## Analyse with FCCAnalyses\n",
    "\n",
    "For this part we start by cloning the FCCAnalyses GitHub repository"
   ]
  },
  {
   "cell_type": "code",
   "execution_count": null,
   "metadata": {},
   "outputs": [],
   "source": [
    "%%bash\n",
    "git clone https://github.com/HEP-FCC/FCCAnalyses.git\n",
    "cd FCCAnalyses"
   ]
  },
  {
   "cell_type": "markdown",
   "metadata": {},
   "source": [
    "and follow the compilation instructions [here](https://github.com/HEP-FCC/FCCAnalyses/#getting-started) to get started with **ONLY** the installation.\n",
    "Once the code has been compiled, we can now run the pre-selection on previously produced samples:"
   ]
  },
  {
   "cell_type": "code",
   "execution_count": null,
   "metadata": {},
   "outputs": [],
   "source": [
    "%%bash\n",
    "python FCCeeAnalyses/ZH_Zmumu/dataframe/analysis.py PATH_TO_FILES_PART_I/p8_ee_ZH_ecm240.root\n",
    "python FCCeeAnalyses/ZH_Zmumu/dataframe/analysis.py PATH_TO_FILES_PART_I/p8_ee_ZZ_ecm240.root\n",
    "python FCCeeAnalyses/ZH_Zmumu/dataframe/analysis.py PATH_TO_FILES_PART_I/p8_ee_WW_ecm240.root"
   ]
  },
  {
   "cell_type": "markdown",
   "metadata": {},
   "source": [
    "this will produce small ntuples pre-selection files with only variables you are interested in.\n",
    "\n",
    "lets now run the final selection on the pre-selection files:"
   ]
  },
  {
   "cell_type": "code",
   "execution_count": null,
   "metadata": {},
   "outputs": [],
   "source": [
    "%%bash\n",
    "python FCCeeAnalyses/ZH_Zmumu/dataframe/finalSel.py"
   ]
  },
  {
   "cell_type": "markdown",
   "metadata": {},
   "source": [
    "this will produce 2 files for each sample and each selection, one with final tree with variables of interest, and one with histograms.\n",
    " \n",
    " Now we can produce plots:\n",
    " \n",
    " ```python\n",
    " python bin/doPlots.py FCCeeAnalyses/ZH_Zmumu/dataframe/plots.py"
   ]
  },
  {
   "cell_type": "code",
   "execution_count": null,
   "metadata": {},
   "outputs": [],
   "source": [
    "\n",
    "and look at them in ```FCCee/ZH_Zmumu/plots/```. \n",
    "\n",
    "Please note that the event statistics is not great because we only run on 10 000 events.\n",
    "\n",
    "- **Exercises** \n",
    "\n",
    "1) Modify ```FCCeeAnalyses/ZH_Zmumu/dataframe/plots.py``` to include the muon tracks (look at the output file or to ```FCCeeAnalyses/ZH_Zmumu/dataframe/analysis.py``` to check the name.\n",
    "\n",
    "2) Add the track informations to the output files by modifying ```FCCeeAnalyses/ZH_Zmumu/dataframe/analysis.py``` for the ```efcharged``` collection and produce plots with them as in 1)\n",
    "\n",
    "3) Produce plots with larger statistics by re-running ```fccrun``` with more events.\n",
    "\n",
    "4) **This part can only be on lxplus and for people having the access rights to eos and the analysis dictonary** \n",
    "In order to produce plots with more statistics using centrally produced samples, we could use already processed large statistics samples.\n",
    "To do so we re-run the pre-selection over 10 percent of the total statistics [here](http://fcc-physics-events.web.cern.ch/fcc-physics-events/Delphesevents_fccee_v02.php). \n",
    "\n",
    "```bash\n",
    " python FCCeeAnalyses/ZH_Zmumu/dataframe/preSel.py"
   ]
  },
  {
   "cell_type": "markdown",
   "metadata": {},
   "source": [
    "and as before run the final selection and plots:"
   ]
  },
  {
   "cell_type": "code",
   "execution_count": null,
   "metadata": {},
   "outputs": [],
   "source": [
    "%%bash\n",
    "python FCCeeAnalyses/ZH_Zmumu/dataframe/finalSel.py\n",
    "python bin/doPlots.py FCCeeAnalyses/ZH_Zmumu/dataframe/plots.py"
   ]
  },
  {
   "cell_type": "markdown",
   "metadata": {},
   "source": [
    "and look at the new plots in ```FCCee/ZH_Zmumu/plots/```. \n",
    "\n",
    "To further increase the event statistics, increase the value (up to 1) of the parameter ```fraction``` in ```FCCeeAnalyses/ZH_Zmumu/dataframe/preSel.py```\n",
    "\n",
    "\n",
    "## Part III: Compare two Monte-Carlo samples\n",
    "\n",
    "In this part we will compare two generators at the Z-pole.\n",
    "First, follow this tutorial to generate Z events with Whizard and produce a Les Houches Events file: [here](https://hep-fcc.github.io/fcc-tutorials/fast-sim-and-analysis/FccFastSimGeneration.html#whizard).\n",
    "\n",
    "Once you have followed this tutorial, start from a clean shell, go to your tutorial directoty and run the setup"
   ]
  },
  {
   "cell_type": "code",
   "execution_count": null,
   "metadata": {},
   "outputs": [],
   "source": [
    "%%bash\n",
    "source /cvmfs/fcc.cern.ch/sw/latest/setup.sh"
   ]
  },
  {
   "cell_type": "markdown",
   "metadata": {},
   "source": [
    "Then create a generic Pythi8 card for reading LHE files\n",
    "- **Pythia_LHE.cmd**"
   ]
  },
  {
   "cell_type": "code",
   "execution_count": null,
   "metadata": {},
   "outputs": [],
   "source": [
    "! 1) Settings that will be used in a main program.\n",
    "Main:numberOfEvents = 1            ! number of events to generate\n",
    "Main:timesAllowErrors = 10        ! abort run after this many flawed events\n",
    "\n",
    "! 2) Tell Pythia that LHEF input is used\n",
    "Beams:frameType             = 4\n",
    "Beams:setProductionScalesFromLHEF = off\n",
    "Beams:LHEF = events.lhe\n",
    "\n",
    "! 4) Settings for the event generation process in the Pythia8 library.\n",
    "! PartonLevel:ISR = on               ! initial-state radiation\n",
    "! PartonLevel:FSR = on               ! final-state radiation"
   ]
  },
  {
   "cell_type": "markdown",
   "metadata": {},
   "source": [
    "Where ```Beams:LHEF = events.lhe``` points to the file you have produced with Whizard.\n",
    "Then we shower with Pythia in FCCSW and run the Delphes detector paramterisation:"
   ]
  },
  {
   "cell_type": "code",
   "execution_count": null,
   "metadata": {},
   "outputs": [],
   "source": [
    "%%bash\n",
    "fccrun PythiaDelphes_config.py --Filename Pythia_LHE.cmd --filename wizhardp8_ee_Z_Zmumu_ecm91.root -n 10000"
   ]
  },
  {
   "cell_type": "markdown",
   "metadata": {},
   "source": [
    "- **Pythia_ee_Zmumu_ecm91.cmd**"
   ]
  },
  {
   "cell_type": "code",
   "execution_count": null,
   "metadata": {},
   "outputs": [],
   "source": [
    "! File: Pythia_ee_Zmumu_ecm91.cmd\n",
    "Random:setSeed = on\n",
    "Main:numberOfEvents = 1000         ! number of events to generate\n",
    "Main:timesAllowErrors = 5          ! how many aborts before run stops\n",
    "\n",
    "! 2) Settings related to output in init(), next() and stat().\n",
    "Next:numberCount = 100           ! print message every n events\n",
    "Beams:idA = 11                   ! first beam, e- = 11\n",
    "Beams:idB = -11                  ! second beam, e+ = -11\n",
    "\n",
    "! 3) Hard process : Z->mumu, at 91.2 GeV\n",
    "Beams:eCM = 91.2               ! CM energy of collision\n",
    "WeakSingleBoson:ffbar2ffbar(s:gmZ) = on\n",
    "\n",
    "! 4) Settings for the event generation process in the Pythia8 library.\n",
    "PartonLevel:ISR = on               ! initial-state radiation\n",
    "PartonLevel:FSR = on               ! final-state radiation\n",
    "\n",
    "! Decays\n",
    "!Z0\n",
    "23:onMode = off\n",
    "23:onIfAny = 13\n",
    "!gamma\n",
    "22:onMode = off\n",
    "22:onIfAny = 13"
   ]
  },
  {
   "cell_type": "markdown",
   "metadata": {},
   "source": [
    "and run fcc on it"
   ]
  },
  {
   "cell_type": "code",
   "execution_count": null,
   "metadata": {},
   "outputs": [],
   "source": [
    "%%bash\n",
    "fccrun PythiaDelphes_config.py --Filename Pythia_ee_Zmumu_ecm91.cmd --filename p8_ee_Z_Zmumu_ecm91.root -n 10000"
   ]
  },
  {
   "cell_type": "markdown",
   "metadata": {},
   "source": [
    "Now go to the ```FCCAnalyses``` repository you have cloned during Part II, and run the Z to mumu analysis on the files produced"
   ]
  },
  {
   "cell_type": "code",
   "execution_count": null,
   "metadata": {},
   "outputs": [],
   "source": [
    "%%bash\n",
    "python FCCeeAnalyses/Z_Zmumu/dataframe/analysis.py PATH_TO_FILES/wizhardp8_ee_Z_Zmumu_ecm91.root\n",
    "python FCCeeAnalyses/Z_Zmumu/dataframe/analysis.py PATH_TO_FILES/p8_ee_Z_Zmumu_ecm91.root"
   ]
  },
  {
   "cell_type": "markdown",
   "metadata": {},
   "source": [
    "Run the final selection:"
   ]
  },
  {
   "cell_type": "code",
   "execution_count": null,
   "metadata": {},
   "outputs": [],
   "source": [
    "%%bash\n",
    "python FCCeeAnalyses/Z_Zmumu/dataframe/finalSel.py"
   ]
  },
  {
   "cell_type": "markdown",
   "metadata": {},
   "source": [
    "Now we can produce plots:\n",
    " \n",
    " ```python\n",
    " python bin/doPlots.py FCCeeAnalyses/Z_Zmumu/dataframe/plots.py\n",
    "```\n",
    "\n",
    "and look at the new plots in ```FCCee/Z_Zmumu/plots/```. \n",
    "\n",
    "- **Exercises** \n",
    "\n",
    "1) Whizard already contains ISR/FSR. To see this effect, rerun FCCSW on the Whizard LHE file by uncommenting the ISR/FSR in the Pythia card, and run the analysis to produce new plots and compare (move the old plots to an other directory as they will be overwritten) \n",
    "\n",
    "2) Modify ```FCCeeAnalyses/Z_Zmumu/dataframe/analysis.py``` and ```FCCeeAnalyses/Z_Zmumu/dataframe/plots.py``` to include the muon tracks.\n",
    "\n",
    "3) **For Experts** Produce the same process with madgraph, shower the LHE file produced with Ptyhia8 in FCCSW (together with Delphes) and compare the dimuon invariant mass distribution with Pythia and Whizard."
   ]
  }
 ],
 "metadata": {},
 "nbformat": 4,
 "nbformat_minor": 4
}
